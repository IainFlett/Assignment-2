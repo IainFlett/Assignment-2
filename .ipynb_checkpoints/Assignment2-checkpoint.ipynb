{
 "cells": [
  {
   "cell_type": "markdown",
   "id": "d1fc1261-4bff-464b-b430-801fdeea9354",
   "metadata": {},
   "source": [
    "# **Assignment 2**"
   ]
  },
  {
   "cell_type": "markdown",
   "id": "09d759ac-84e6-456f-8586-b2f745de8eda",
   "metadata": {},
   "source": [
    "|  Name | Student ID | Section Contributed | Section Edited | Other Contributions |\n",
    "| --- | --- | --- | --- | --- |\n",
    "| Dueck, Ellie | 301462367 |  |  | \n",
    "| Flett, Iain | 301581520 |  | | "
   ]
  },
  {
   "cell_type": "code",
   "execution_count": 468,
   "id": "4ac0d36c-fb99-4c5f-95aa-16d3dec5b6ca",
   "metadata": {},
   "outputs": [],
   "source": [
    "import os\n",
    "import nltk\n",
    "from nltk import punkt\n",
    "from nltk.corpus import stopwords\n",
    "from nltk.classify.scikitlearn import SklearnClassifier\n",
    "from sklearn.naive_bayes import MultinomialNB, GaussianNB, BernoulliNB\n",
    "import matplotlib.pyplot as plt\n",
    "from collections import Counter\n",
    "import numpy as np\n",
    "import pandas as pd\n",
    "from nltk.sentiment.vader import SentimentIntensityAnalyzer\n",
    "import random"
   ]
  },
  {
   "cell_type": "code",
   "execution_count": null,
   "id": "47d2aa2d-a724-423f-93ad-f1fbcfb74a2c",
   "metadata": {},
   "outputs": [],
   "source": []
  },
  {
   "cell_type": "code",
   "execution_count": 564,
   "id": "f1c69f32-61e4-448e-ac44-27ae88951c1d",
   "metadata": {},
   "outputs": [],
   "source": [
    "def get_sentiment_scores(text):\n",
    "    \"\"\"\n",
    "    Uses VADER within NLTK to calculate sentiment\n",
    "    \n",
    "    Args:\n",
    "        text (str): a string containing the file or text\n",
    "        \n",
    "    Returns: \n",
    "        dict: a dictionary that VADER creates\n",
    "    \"\"\"\n",
    "    analyzer = SentimentIntensityAnalyzer()\n",
    "    scores = analyzer.polarity_scores(text)\n",
    "    score = scores['compound']\n",
    "    out = (score*100)\n",
    "    return out\n",
    "\n"
   ]
  },
  {
   "cell_type": "code",
   "execution_count": null,
   "id": "50a636a2-8dce-47d8-86ff-1cd8a361c3cf",
   "metadata": {},
   "outputs": [],
   "source": []
  },
  {
   "cell_type": "code",
   "execution_count": 394,
   "id": "6a581bcc-72d6-416d-9ede-f43b1da91792",
   "metadata": {},
   "outputs": [],
   "source": [
    "path = './data'"
   ]
  },
  {
   "cell_type": "code",
   "execution_count": 396,
   "id": "b6361e19-3c2a-4437-bb9c-4560ff25566d",
   "metadata": {},
   "outputs": [
    {
     "data": {
      "text/html": [
       "<div>\n",
       "<style scoped>\n",
       "    .dataframe tbody tr th:only-of-type {\n",
       "        vertical-align: middle;\n",
       "    }\n",
       "\n",
       "    .dataframe tbody tr th {\n",
       "        vertical-align: top;\n",
       "    }\n",
       "\n",
       "    .dataframe thead th {\n",
       "        text-align: right;\n",
       "    }\n",
       "</style>\n",
       "<table border=\"1\" class=\"dataframe\">\n",
       "  <thead>\n",
       "    <tr style=\"text-align: right;\">\n",
       "      <th></th>\n",
       "      <th>message</th>\n",
       "    </tr>\n",
       "  </thead>\n",
       "  <tbody>\n",
       "    <tr>\n",
       "      <th>0</th>\n",
       "      <td>Your best photographs of 2012. GALLERY: http:/...</td>\n",
       "    </tr>\n",
       "    <tr>\n",
       "      <th>1</th>\n",
       "      <td>London's leading shares have fallen amid fears...</td>\n",
       "    </tr>\n",
       "    <tr>\n",
       "      <th>2</th>\n",
       "      <td>In Pictures: New Year's celebrations from arou...</td>\n",
       "    </tr>\n",
       "    <tr>\n",
       "      <th>3</th>\n",
       "      <td>A painting bought for £400 and featured on the...</td>\n",
       "    </tr>\n",
       "    <tr>\n",
       "      <th>4</th>\n",
       "      <td>52 jobs in 52 weeks. 30-year-old Matt Frost de...</td>\n",
       "    </tr>\n",
       "    <tr>\n",
       "      <th>...</th>\n",
       "      <td>...</td>\n",
       "    </tr>\n",
       "    <tr>\n",
       "      <th>21026</th>\n",
       "      <td>Police warn the public not to approach two men...</td>\n",
       "    </tr>\n",
       "    <tr>\n",
       "      <th>21027</th>\n",
       "      <td>Would you know the difference?</td>\n",
       "    </tr>\n",
       "    <tr>\n",
       "      <th>21028</th>\n",
       "      <td>Certainly an interesting find.</td>\n",
       "    </tr>\n",
       "    <tr>\n",
       "      <th>21029</th>\n",
       "      <td>'Canadians are obsessed by the rise of Trump -...</td>\n",
       "    </tr>\n",
       "    <tr>\n",
       "      <th>21030</th>\n",
       "      <td>Six celebrities will take part in the  Strictl...</td>\n",
       "    </tr>\n",
       "  </tbody>\n",
       "</table>\n",
       "<p>21031 rows × 1 columns</p>\n",
       "</div>"
      ],
      "text/plain": [
       "                                                 message\n",
       "0      Your best photographs of 2012. GALLERY: http:/...\n",
       "1      London's leading shares have fallen amid fears...\n",
       "2      In Pictures: New Year's celebrations from arou...\n",
       "3      A painting bought for £400 and featured on the...\n",
       "4      52 jobs in 52 weeks. 30-year-old Matt Frost de...\n",
       "...                                                  ...\n",
       "21026  Police warn the public not to approach two men...\n",
       "21027                     Would you know the difference?\n",
       "21028                     Certainly an interesting find.\n",
       "21029  'Canadians are obsessed by the rise of Trump -...\n",
       "21030  Six celebrities will take part in the  Strictl...\n",
       "\n",
       "[21031 rows x 1 columns]"
      ]
     },
     "execution_count": 396,
     "metadata": {},
     "output_type": "execute_result"
    }
   ],
   "source": [
    "df1 = pd.read_csv('./data/news1cleaned.csv', encoding = \"utf-16\")\n",
    "\n",
    "df1\n"
   ]
  },
  {
   "cell_type": "code",
   "execution_count": 430,
   "id": "85aa1612-dfe2-4e61-90fa-59d69db8a968",
   "metadata": {},
   "outputs": [
    {
     "data": {
      "text/html": [
       "<div>\n",
       "<style scoped>\n",
       "    .dataframe tbody tr th:only-of-type {\n",
       "        vertical-align: middle;\n",
       "    }\n",
       "\n",
       "    .dataframe tbody tr th {\n",
       "        vertical-align: top;\n",
       "    }\n",
       "\n",
       "    .dataframe thead th {\n",
       "        text-align: right;\n",
       "    }\n",
       "</style>\n",
       "<table border=\"1\" class=\"dataframe\">\n",
       "  <thead>\n",
       "    <tr style=\"text-align: right;\">\n",
       "      <th></th>\n",
       "      <th>message</th>\n",
       "    </tr>\n",
       "  </thead>\n",
       "  <tbody>\n",
       "    <tr>\n",
       "      <th>0</th>\n",
       "      <td>Roberts took the unusual step of devoting the ...</td>\n",
       "    </tr>\n",
       "    <tr>\n",
       "      <th>1</th>\n",
       "      <td>Do you agree with the new law?</td>\n",
       "    </tr>\n",
       "    <tr>\n",
       "      <th>2</th>\n",
       "      <td>Some pretty cool confetti will rain down on Ne...</td>\n",
       "    </tr>\n",
       "    <tr>\n",
       "      <th>3</th>\n",
       "      <td>NaN</td>\n",
       "    </tr>\n",
       "    <tr>\n",
       "      <th>4</th>\n",
       "      <td>The pharmacy was held up by a man seeking pres...</td>\n",
       "    </tr>\n",
       "    <tr>\n",
       "      <th>...</th>\n",
       "      <td>...</td>\n",
       "    </tr>\n",
       "    <tr>\n",
       "      <th>21026</th>\n",
       "      <td>WATCH: Obi the baby pygmy hippo has splashed i...</td>\n",
       "    </tr>\n",
       "    <tr>\n",
       "      <th>21027</th>\n",
       "      <td>40 people, mostly children, sickened after vis...</td>\n",
       "    </tr>\n",
       "    <tr>\n",
       "      <th>21028</th>\n",
       "      <td>For updates on #Charlestonshooting vigil, foll...</td>\n",
       "    </tr>\n",
       "    <tr>\n",
       "      <th>21029</th>\n",
       "      <td>Entire arena joins hands and sings 'We Shall O...</td>\n",
       "    </tr>\n",
       "    <tr>\n",
       "      <th>21030</th>\n",
       "      <td>72 years later, this Japanese-American couple,...</td>\n",
       "    </tr>\n",
       "  </tbody>\n",
       "</table>\n",
       "<p>21031 rows × 1 columns</p>\n",
       "</div>"
      ],
      "text/plain": [
       "                                                 message\n",
       "0      Roberts took the unusual step of devoting the ...\n",
       "1                         Do you agree with the new law?\n",
       "2      Some pretty cool confetti will rain down on Ne...\n",
       "3                                                    NaN\n",
       "4      The pharmacy was held up by a man seeking pres...\n",
       "...                                                  ...\n",
       "21026  WATCH: Obi the baby pygmy hippo has splashed i...\n",
       "21027  40 people, mostly children, sickened after vis...\n",
       "21028  For updates on #Charlestonshooting vigil, foll...\n",
       "21029  Entire arena joins hands and sings 'We Shall O...\n",
       "21030  72 years later, this Japanese-American couple,...\n",
       "\n",
       "[21031 rows x 1 columns]"
      ]
     },
     "execution_count": 430,
     "metadata": {},
     "output_type": "execute_result"
    }
   ],
   "source": [
    "df2full = pd.read_csv('./data/news2cleaned.csv', encoding = \"utf-16\")\n",
    "\n",
    "df2 = df2full.head(len(df1))\n",
    "df2"
   ]
  },
  {
   "cell_type": "code",
   "execution_count": 483,
   "id": "ab9e02fe-e332-4a74-92f2-267f1dd0494c",
   "metadata": {},
   "outputs": [],
   "source": [
    "# define the function\n",
    "def featureExtractor(message):\n",
    "    return {'sentiment': get_sentiment_scores(message)}"
   ]
  },
  {
   "cell_type": "code",
   "execution_count": 485,
   "id": "901b03a1-6098-438b-a9f6-191c54768ab1",
   "metadata": {},
   "outputs": [],
   "source": [
    "# construct the dataset\n",
    "labeledMessages = ([(message, 'bbc') for message in df1['message']] +\n",
    "                [(message, 'abc') for message in df2['message']])\n",
    "\n",
    "# shuffle the data set\n",
    "random.shuffle(labeledMessages)"
   ]
  },
  {
   "cell_type": "code",
   "execution_count": null,
   "id": "bd3399c3-c041-4d44-b00d-178c88c2d864",
   "metadata": {},
   "outputs": [],
   "source": []
  },
  {
   "cell_type": "code",
   "execution_count": 488,
   "id": "1c08ed15-780f-4e64-b066-b38d9d7ea5cc",
   "metadata": {},
   "outputs": [
    {
     "name": "stdout",
     "output_type": "stream",
     "text": [
      "29443\n",
      "8412\n",
      "4206\n"
     ]
    }
   ],
   "source": [
    "# divide 70, 20, 10\n",
    "length = len(labeledMessages)\n",
    "len_training = int(length * 0.7)\n",
    "len_dev = int(length * 0.2)\n",
    "len_test = int(length * 0.1)\n",
    "\n",
    "# print to double-check\n",
    "print(len_training)\n",
    "print(len_dev)\n",
    "print(len_test)"
   ]
  },
  {
   "cell_type": "code",
   "execution_count": 490,
   "id": "3ca05176-fbf5-4f9d-ae3c-c2273703e242",
   "metadata": {},
   "outputs": [
    {
     "name": "stdout",
     "output_type": "stream",
     "text": [
      "29443\n",
      "8412\n",
      "4207\n"
     ]
    }
   ],
   "source": [
    "# divide the names list into 3 parts, slicing by the variables above, which tell us how many items\n",
    "# is 70%, 20%, 10%\n",
    "trainingMessages = labeledMessages[:len_training]\n",
    "devtestMessages = labeledMessages[len_training:(len_training + len_dev)]\n",
    "testMessages = labeledMessages[(len_training + len_dev):]\n",
    "\n",
    "# print to double-check\n",
    "print(len(trainingMessages))\n",
    "print(len(devtestMessages))\n",
    "print(len(testMessages))"
   ]
  },
  {
   "cell_type": "code",
   "execution_count": 566,
   "id": "8264fd3d-212c-46e2-ba64-a587f5bbab04",
   "metadata": {},
   "outputs": [],
   "source": [
    "# call the function to extract the features from each set\n",
    "\n",
    "trainingSet = [(featureExtractor(str(n)), corp) for (n, corp) in trainingMessages]"
   ]
  },
  {
   "cell_type": "code",
   "execution_count": 567,
   "id": "bc4c8837-1975-43fb-8a34-0c1172c63291",
   "metadata": {},
   "outputs": [],
   "source": [
    "devtestSet = [(featureExtractor(str(n)), corp) for (n, corp) in devtestMessages]"
   ]
  },
  {
   "cell_type": "code",
   "execution_count": 568,
   "id": "15fa2185-9e82-4a15-8db4-9631fe9f2247",
   "metadata": {},
   "outputs": [],
   "source": [
    "testSet = [(featureExtractor(str(n)), corp) for (n, corp) in testMessages]"
   ]
  },
  {
   "cell_type": "code",
   "execution_count": 569,
   "id": "2082bc72-fd1e-48d2-89e6-dabd0b2cc9b2",
   "metadata": {},
   "outputs": [
    {
     "name": "stdout",
     "output_type": "stream",
     "text": [
      "0.5174750356633381\n"
     ]
    }
   ],
   "source": [
    "B_classifier = SklearnClassifier(BernoulliNB())\n",
    "\n",
    "B_classifier.train(trainingSet)\n",
    "\n",
    "print(nltk.classify.accuracy(B_classifier,devtestSet))\n"
   ]
  },
  {
   "cell_type": "code",
   "execution_count": 574,
   "id": "c896474a-0236-438a-9823-66e12c2f5f10",
   "metadata": {},
   "outputs": [
    {
     "name": "stdout",
     "output_type": "stream",
     "text": [
      "  ==> Training (100 iterations)\n",
      "\n",
      "      Iteration    Log Likelihood    Accuracy\n",
      "      ---------------------------------------\n",
      "             1          -0.69315        0.499\n",
      "             2          -0.64564        0.594\n",
      "             3          -0.63740        0.594\n",
      "             4          -0.63248        0.594\n",
      "             5          -0.62922        0.594\n",
      "             6          -0.62689        0.594\n",
      "             7          -0.62515        0.594\n",
      "             8          -0.62380        0.594\n",
      "             9          -0.62272        0.594\n",
      "            10          -0.62184        0.594\n",
      "            11          -0.62110        0.594\n",
      "            12          -0.62048        0.594\n",
      "            13          -0.61995        0.594\n",
      "            14          -0.61949        0.594\n",
      "            15          -0.61909        0.594\n",
      "            16          -0.61873        0.594\n",
      "            17          -0.61841        0.594\n",
      "            18          -0.61813        0.594\n",
      "            19          -0.61788        0.594\n",
      "            20          -0.61765        0.594\n",
      "            21          -0.61744        0.594\n",
      "            22          -0.61725        0.594\n",
      "            23          -0.61707        0.594\n",
      "            24          -0.61691        0.594\n",
      "            25          -0.61676        0.594\n",
      "            26          -0.61662        0.594\n",
      "            27          -0.61650        0.594\n",
      "            28          -0.61638        0.594\n",
      "            29          -0.61627        0.594\n",
      "            30          -0.61616        0.594\n",
      "            31          -0.61607        0.594\n",
      "            32          -0.61597        0.594\n",
      "            33          -0.61589        0.594\n",
      "            34          -0.61581        0.594\n",
      "            35          -0.61573        0.594\n",
      "            36          -0.61566        0.594\n",
      "            37          -0.61559        0.594\n",
      "            38          -0.61553        0.594\n",
      "            39          -0.61546        0.594\n",
      "            40          -0.61540        0.594\n",
      "            41          -0.61535        0.594\n",
      "            42          -0.61530        0.594\n",
      "            43          -0.61524        0.594\n",
      "            44          -0.61520        0.594\n",
      "            45          -0.61515        0.594\n",
      "            46          -0.61510        0.594\n",
      "            47          -0.61506        0.594\n",
      "            48          -0.61502        0.594\n",
      "            49          -0.61498        0.594\n",
      "            50          -0.61494        0.594\n",
      "            51          -0.61491        0.594\n",
      "            52          -0.61487        0.594\n",
      "            53          -0.61484        0.594\n",
      "            54          -0.61481        0.594\n",
      "            55          -0.61478        0.594\n",
      "            56          -0.61474        0.594\n",
      "            57          -0.61472        0.594\n",
      "            58          -0.61469        0.594\n",
      "            59          -0.61466        0.594\n",
      "            60          -0.61463        0.594\n",
      "            61          -0.61461        0.594\n",
      "            62          -0.61458        0.594\n",
      "            63          -0.61456        0.594\n",
      "            64          -0.61454        0.594\n",
      "            65          -0.61451        0.594\n",
      "            66          -0.61449        0.594\n",
      "            67          -0.61447        0.594\n",
      "            68          -0.61445        0.594\n",
      "            69          -0.61443        0.594\n",
      "            70          -0.61441        0.594\n",
      "            71          -0.61439        0.594\n",
      "            72          -0.61437        0.594\n",
      "            73          -0.61436        0.594\n",
      "            74          -0.61434        0.594\n",
      "            75          -0.61432        0.594\n",
      "            76          -0.61431        0.594\n",
      "            77          -0.61429        0.594\n",
      "            78          -0.61427        0.594\n",
      "            79          -0.61426        0.594\n",
      "            80          -0.61424        0.594\n",
      "            81          -0.61423        0.594\n",
      "            82          -0.61422        0.594\n",
      "            83          -0.61420        0.594\n",
      "            84          -0.61419        0.594\n",
      "            85          -0.61418        0.594\n",
      "            86          -0.61416        0.594\n",
      "            87          -0.61415        0.594\n",
      "            88          -0.61414        0.594\n",
      "            89          -0.61413        0.594\n",
      "            90          -0.61411        0.594\n",
      "            91          -0.61410        0.594\n",
      "            92          -0.61409        0.594\n",
      "            93          -0.61408        0.594\n",
      "            94          -0.61407        0.594\n",
      "            95          -0.61406        0.594\n",
      "            96          -0.61405        0.594\n",
      "            97          -0.61404        0.594\n",
      "            98          -0.61403        0.594\n",
      "            99          -0.61402        0.594\n",
      "         Final          -0.61401        0.594\n",
      "Accuracy on the dev-test set: 0.5524251069900142 \n",
      "\n",
      "   6.644 sentiment==-3.8699999999999997 and label is 'abc'\n",
      "   6.644 sentiment==29.24 and label is 'bbc'\n",
      "   6.644 sentiment==-16.950000000000003 and label is 'bbc'\n",
      "   6.644 sentiment==-62.4 and label is 'bbc'\n",
      "   6.644 sentiment==-93.22 and label is 'abc'\n"
     ]
    }
   ],
   "source": [
    "# run the classifier with the trainingSet\n",
    "classifier = nltk.MaxentClassifier.train(trainingSet)\n",
    "\n",
    "# check accuracy on the devtestSet\n",
    "print(\"Accuracy on the dev-test set:\", nltk.classify.accuracy(classifier, devtestSet), \"\\n\")\n",
    "\n",
    "# check what the most informative features are in our model\n",
    "classifier.show_most_informative_features(5)"
   ]
  },
  {
   "cell_type": "code",
   "execution_count": 580,
   "id": "21722634-0cb6-4669-b7c6-a423a5b27810",
   "metadata": {},
   "outputs": [
    {
     "data": {
      "text/plain": [
       "'# create an empty list to store the errors\\nerrors = []\\n\\n# loop through the devtestNames to classify the entire name\\n# store the errors in the list\\nfor (message, tag) in testMessages:\\n    guess = B_classifier.classify(featureExtractor(str(message)))\\n    if guess != tag:\\n        print(\"correct=%s guess=%s name=%s\" % (tag, guess, message))'"
      ]
     },
     "execution_count": 580,
     "metadata": {},
     "output_type": "execute_result"
    }
   ],
   "source": [
    "\"\"\"# create an empty list to store the errors\n",
    "errors = []\n",
    "\n",
    "# loop through the devtestNames to classify the entire name\n",
    "# store the errors in the list\n",
    "for (message, tag) in testMessages:\n",
    "    guess = B_classifier.classify(featureExtractor(str(message)))\n",
    "    if guess != tag:\n",
    "        print(\"correct=%s guess=%s name=%s\" % (tag, guess, message))\"\"\""
   ]
  },
  {
   "cell_type": "code",
   "execution_count": null,
   "id": "5ffaef02-0bca-4dfe-a84c-a09cf495ec17",
   "metadata": {},
   "outputs": [],
   "source": []
  },
  {
   "cell_type": "code",
   "execution_count": null,
   "id": "7a0c7cbf-1816-4d57-a1d6-715f85c200fd",
   "metadata": {},
   "outputs": [],
   "source": []
  },
  {
   "cell_type": "markdown",
   "id": "e64431ba-2b05-4d84-8762-4f64da010b19",
   "metadata": {},
   "source": [
    "Reference:\n",
    "\n",
    "    SciKit Learn and NLTK package : https://www.youtube.com/watch?v=nla4C-VYNEU&t=272s"
   ]
  },
  {
   "cell_type": "code",
   "execution_count": null,
   "id": "58cc7f3c-6a17-4e41-bb05-6cabe2ab0d61",
   "metadata": {},
   "outputs": [],
   "source": []
  }
 ],
 "metadata": {
  "kernelspec": {
   "display_name": "Python [conda env:base] *",
   "language": "python",
   "name": "conda-base-py"
  },
  "language_info": {
   "codemirror_mode": {
    "name": "ipython",
    "version": 3
   },
   "file_extension": ".py",
   "mimetype": "text/x-python",
   "name": "python",
   "nbconvert_exporter": "python",
   "pygments_lexer": "ipython3",
   "version": "3.12.7"
  }
 },
 "nbformat": 4,
 "nbformat_minor": 5
}
